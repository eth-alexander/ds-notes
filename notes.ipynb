{
 "cells": [
  {
   "cell_type": "markdown",
   "id": "0edb6a44",
   "metadata": {},
   "source": [
    "# DataCamp Notes\n",
    "Author: Ethan Alexander  \n",
    "\n",
    "---\n",
    "\n",
    "## Course 4: Data Manipulation with pandas\n",
    "\n",
    "### Chapter 1: Transforming DataFrames"
   ]
  },
  {
   "cell_type": "code",
   "execution_count": null,
   "id": "c7b43ce9",
   "metadata": {},
   "outputs": [],
   "source": [
    "import pandas as pd\n",
    "import numpy as np\n",
    "import pickle\n",
    "import matplotlib.pyplot as plt\n",
    "\n",
    "dogs = pd.DataFrame({'name': ['Bella', 'Charlie', 'Lucy', 'Cooper', 'Max', 'Stella', 'Bernie'],\n",
    "                     'breed': ['Labrador', 'Poodle', 'Chow Chow', 'Schnauzer', 'Labrador', 'Chihuahua', 'St. Bernard'],\n",
    "                     'color': ['Brown', 'Black', 'Brown', 'Gray', 'Black', 'Tan', 'White'],\n",
    "                     'height_cm': [56, 43, 46, 49, 59, 18, 77],\n",
    "                     'weight_kg': [24, 24, 24, 17, 29, 2, 74],\n",
    "                     'date_of_birth': ['2013-07-01', '2016-09-16', '2014-08-25', '2011-12-11', '2017-01-20', '2015-04-20', '2018-02-27']\n",
    "                     })\n",
    "dogs['date_of_birth'] = pd.to_datetime(dogs['date_of_birth'])\n",
    "\n",
    "with open('data/avoplotto.pkl', 'rb') as file:\n",
    "    avocados = pickle.load(file)\n",
    "    \n",
    "homelessness_data = pd.read_csv('data/homelessness.csv')\n",
    "sales_data = pd.read_csv('data/sales_subset.csv')\n",
    "temperature_data = pd.read_csv('data/temperatures.csv')"
   ]
  },
  {
   "cell_type": "markdown",
   "id": "8f1f89ef",
   "metadata": {},
   "source": [
    "- `.head()` shows the first 5 rows of a DataFrame."
   ]
  },
  {
   "cell_type": "code",
   "execution_count": null,
   "id": "5d7dc48d",
   "metadata": {},
   "outputs": [],
   "source": [
    "dogs.head()"
   ]
  },
  {
   "cell_type": "markdown",
   "id": "4a268262",
   "metadata": {},
   "source": [
    "- `.info()` shows column names with data types and whether they have missing values"
   ]
  },
  {
   "cell_type": "code",
   "execution_count": null,
   "id": "928004c6",
   "metadata": {},
   "outputs": [],
   "source": [
    "dogs.info()"
   ]
  },
  {
   "cell_type": "markdown",
   "id": "f7daf8cf",
   "metadata": {},
   "source": [
    "- `.shape` returns tuple (number of rows, number of columns)"
   ]
  },
  {
   "cell_type": "code",
   "execution_count": null,
   "id": "baa07b94",
   "metadata": {},
   "outputs": [],
   "source": [
    "dogs.shape"
   ]
  },
  {
   "cell_type": "markdown",
   "id": "a511c02f",
   "metadata": {},
   "source": [
    "- `.describe()` shows basic summary statistics for numeric columns"
   ]
  },
  {
   "cell_type": "code",
   "execution_count": null,
   "id": "72a8f282",
   "metadata": {},
   "outputs": [],
   "source": [
    "dogs.describe()"
   ]
  },
  {
   "cell_type": "markdown",
   "id": "64590eab",
   "metadata": {},
   "source": [
    "- `.values` returns data values as a 2D NumPy array"
   ]
  },
  {
   "cell_type": "code",
   "execution_count": null,
   "id": "98119d77",
   "metadata": {},
   "outputs": [],
   "source": [
    "dogs.values"
   ]
  },
  {
   "cell_type": "markdown",
   "id": "7d31bf99",
   "metadata": {},
   "source": [
    "- `.columns` returns column labels\n",
    "- `.index` returns row labels"
   ]
  },
  {
   "cell_type": "code",
   "execution_count": null,
   "id": "f764757f",
   "metadata": {},
   "outputs": [],
   "source": [
    "dogs.columns"
   ]
  },
  {
   "cell_type": "code",
   "execution_count": null,
   "id": "7670a9fd",
   "metadata": {},
   "outputs": [],
   "source": [
    "dogs.index"
   ]
  },
  {
   "cell_type": "markdown",
   "id": "431b8269",
   "metadata": {},
   "source": [
    "- `.sort_values()` sorts DataFrame\n",
    "- `.sort_values(ascending = False)` puts greater values first\n",
    "- `.sort_values([\"col1\", \"col2\"])` to sort data by multiple columns"
   ]
  },
  {
   "cell_type": "code",
   "execution_count": null,
   "id": "944555aa",
   "metadata": {},
   "outputs": [],
   "source": [
    "dogs.sort_values(\"weight_kg\")"
   ]
  },
  {
   "cell_type": "code",
   "execution_count": null,
   "id": "bb8ea556",
   "metadata": {},
   "outputs": [],
   "source": [
    "dogs.sort_values(\"weight_kg\", ascending=False)"
   ]
  },
  {
   "cell_type": "code",
   "execution_count": null,
   "id": "c39b1dd4",
   "metadata": {},
   "outputs": [],
   "source": [
    "dogs.sort_values([\"weight_kg\", \"height_cm\"], ascending=[True, False])"
   ]
  },
  {
   "cell_type": "markdown",
   "id": "8cd7ebea",
   "metadata": {},
   "source": [
    "- `df[\"col\"]` to subset specific column\n",
    "- `df[[\"col1\", \"col2\"]]` to subset multiple columns\n",
    "- `df[condition]` to subset based on condition"
   ]
  },
  {
   "cell_type": "code",
   "execution_count": null,
   "id": "e927a244",
   "metadata": {},
   "outputs": [],
   "source": [
    "dogs[\"name\"]"
   ]
  },
  {
   "cell_type": "code",
   "execution_count": null,
   "id": "a39c9925",
   "metadata": {},
   "outputs": [],
   "source": [
    "dogs[[\"breed\", \"height_cm\"]]"
   ]
  },
  {
   "cell_type": "code",
   "execution_count": null,
   "id": "12164e58",
   "metadata": {},
   "outputs": [],
   "source": [
    "dogs[dogs[\"height_cm\"] > 50]"
   ]
  },
  {
   "cell_type": "markdown",
   "id": "2bf9f077",
   "metadata": {},
   "source": [
    "- `.isin()` to filter on values of a categorical variable"
   ]
  },
  {
   "cell_type": "code",
   "execution_count": null,
   "id": "63897d17",
   "metadata": {},
   "outputs": [],
   "source": [
    "dogs[dogs[\"color\"].isin([\"Black\", \"Brown\"])]"
   ]
  },
  {
   "cell_type": "markdown",
   "id": "8967c289",
   "metadata": {},
   "source": [
    "- Create/add a new column"
   ]
  },
  {
   "cell_type": "code",
   "execution_count": null,
   "id": "264b6ce8",
   "metadata": {},
   "outputs": [],
   "source": [
    "dogs[\"height_m\"] = dogs[\"height_cm\"] / 100\n",
    "dogs"
   ]
  },
  {
   "cell_type": "markdown",
   "id": "1f9b7ada",
   "metadata": {},
   "source": [
    "Statistics Functions\n",
    "\n",
    "- `.mean()` to calculate mean\n",
    "- `.median()` to calculate median\n",
    "- `.mode()` to calculate mode\n",
    "- `.min()` to calculate minimum\n",
    "- `.max()` to calculate maximum\n",
    "- `.var()` to calculate variance\n",
    "- `.std()` to calculate standard deviation\n",
    "- `.sum()` to calculate sum\n",
    "- `.quantile()` to calculate quantiles\n",
    "- `.cummsum()` to calculate cumulative sums\n",
    "- `.cummax()` to calculate cumulative maximums\n",
    "- `.cummin()` to calculate cumulative minimums\n",
    "- `.cumprod()` to calculate cumulative products"
   ]
  },
  {
   "cell_type": "markdown",
   "id": "d76a4d5f",
   "metadata": {},
   "source": [
    "-  `.agg()` to apply functions"
   ]
  },
  {
   "cell_type": "code",
   "execution_count": null,
   "id": "6afafda0",
   "metadata": {},
   "outputs": [],
   "source": [
    "def iqr(column):\n",
    "    return column.quantile(0.75) - column.quantile(0.25)\n",
    "\n",
    "dogs[\"weight_kg\"].agg([iqr, \"mean\"])"
   ]
  },
  {
   "cell_type": "markdown",
   "id": "d81ec4b9",
   "metadata": {},
   "source": [
    "- `.drop_duplicates()` to remove duplicate values"
   ]
  },
  {
   "cell_type": "code",
   "execution_count": null,
   "id": "6440645c",
   "metadata": {},
   "outputs": [],
   "source": [
    "dogs.drop_duplicates(subset=[\"name\", \"breed\"])"
   ]
  },
  {
   "cell_type": "markdown",
   "id": "0b97e5b8",
   "metadata": {},
   "source": [
    "- `.value_counts()` to calculate number of occurences of each value present\n",
    "- `.value_counts(normalize = True)` to represent counts as proportions of entire dataset"
   ]
  },
  {
   "cell_type": "code",
   "execution_count": null,
   "id": "af0911e7",
   "metadata": {},
   "outputs": [],
   "source": [
    "dogs[\"breed\"].value_counts(sort = True)"
   ]
  },
  {
   "cell_type": "code",
   "execution_count": null,
   "id": "57f343e1",
   "metadata": {},
   "outputs": [],
   "source": [
    "dogs[\"breed\"].value_counts(normalize = True)"
   ]
  },
  {
   "cell_type": "markdown",
   "id": "f5571db9",
   "metadata": {},
   "source": [
    "- `.group_by()` to apply functions to various groups"
   ]
  },
  {
   "cell_type": "code",
   "execution_count": null,
   "id": "5a1f2f9b",
   "metadata": {},
   "outputs": [],
   "source": [
    "dogs.groupby(\"color\")[\"weight_kg\"].agg([\"min\", \"max\", \"sum\", \"mean\"])"
   ]
  },
  {
   "cell_type": "code",
   "execution_count": null,
   "id": "bbfe0f85",
   "metadata": {},
   "outputs": [],
   "source": [
    "dogs.groupby([\"color\", \"breed\"])[[\"weight_kg\", \"height_cm\"]].mean()"
   ]
  },
  {
   "cell_type": "markdown",
   "id": "bf5adb69",
   "metadata": {},
   "source": [
    "- `.pivot_table()` as alternative to `group_by()`"
   ]
  },
  {
   "cell_type": "code",
   "execution_count": null,
   "id": "c132de8f",
   "metadata": {},
   "outputs": [],
   "source": [
    "dogs.groupby(\"color\")[\"weight_kg\"].mean()\n",
    "dogs.pivot_table(values = \"weight_kg\", index = \"color\")"
   ]
  },
  {
   "cell_type": "code",
   "execution_count": null,
   "id": "31b309ac",
   "metadata": {},
   "outputs": [],
   "source": [
    "dogs.pivot_table(values = \"weight_kg\", index=\"color\", aggfunc=[\"mean\", \"median\"])"
   ]
  },
  {
   "cell_type": "code",
   "execution_count": null,
   "id": "e901c5eb",
   "metadata": {},
   "outputs": [],
   "source": [
    "dogs.pivot_table(values = \"weight_kg\", index=\"color\", columns= \"breed\")"
   ]
  },
  {
   "cell_type": "code",
   "execution_count": null,
   "id": "9fc60a32",
   "metadata": {},
   "outputs": [],
   "source": [
    "dogs.pivot_table(values = \"weight_kg\", index=\"color\", columns= \"breed\", fill_value=0)"
   ]
  },
  {
   "cell_type": "code",
   "execution_count": null,
   "id": "34c15fe4",
   "metadata": {},
   "outputs": [],
   "source": [
    "dogs.pivot_table(values = \"weight_kg\", index=\"color\", columns= \"breed\", fill_value=0, margins=True)"
   ]
  },
  {
   "cell_type": "markdown",
   "id": "02b0e740",
   "metadata": {},
   "source": [
    "- `.set_index()` to set column as index\n",
    "- `.reset_index()` to reset indices to default\n",
    "- `.reset_index(drop=True)` deletes column previously used as index\n",
    "- `.loc[]` to based on named indices\n",
    "- `.sort_index()` to sort by index"
   ]
  },
  {
   "cell_type": "code",
   "execution_count": null,
   "id": "f089f27a",
   "metadata": {},
   "outputs": [],
   "source": [
    "dogs_ind = dogs.set_index(\"name\")\n",
    "dogs_ind.loc[[\"Bella\", \"Stella\"]]"
   ]
  },
  {
   "cell_type": "code",
   "execution_count": null,
   "id": "5a535fa9",
   "metadata": {},
   "outputs": [],
   "source": [
    "dogs_ind3 = dogs.set_index([\"breed\", \"color\"])\n",
    "dogs_ind3"
   ]
  },
  {
   "cell_type": "code",
   "execution_count": null,
   "id": "c366a752",
   "metadata": {},
   "outputs": [],
   "source": [
    "dogs_ind3.loc[[\"Labrador\", \"Chihuahua\"]]"
   ]
  },
  {
   "cell_type": "code",
   "execution_count": null,
   "id": "60f2faee",
   "metadata": {},
   "outputs": [],
   "source": [
    "dogs_ind3.loc[[(\"Labrador\", \"Brown\"), (\"Chihuahua\", \"Tan\")]]"
   ]
  },
  {
   "cell_type": "markdown",
   "id": "cee5ec36",
   "metadata": {},
   "source": [
    "Slicing with `.loc`"
   ]
  },
  {
   "cell_type": "code",
   "execution_count": null,
   "id": "0b6590e0",
   "metadata": {},
   "outputs": [],
   "source": [
    "dogs_srt = dogs.set_index([\"breed\", \"color\"]).sort_index()\n",
    "dogs_srt.loc[\"Chow Chow\":\"Poodle\"]"
   ]
  },
  {
   "cell_type": "code",
   "execution_count": null,
   "id": "e1885eae",
   "metadata": {},
   "outputs": [],
   "source": [
    "dogs_srt.loc[:, \"name\":\"height_cm\" ]"
   ]
  },
  {
   "cell_type": "code",
   "execution_count": null,
   "id": "d58b9b43",
   "metadata": {},
   "outputs": [],
   "source": [
    "dogs = dogs.set_index(\"date_of_birth\").sort_index()"
   ]
  },
  {
   "cell_type": "code",
   "execution_count": null,
   "id": "09d48fec",
   "metadata": {},
   "outputs": [],
   "source": [
    "dogs.loc[\"2014\":\"2016\"]"
   ]
  },
  {
   "cell_type": "code",
   "execution_count": null,
   "id": "c9042baa",
   "metadata": {},
   "outputs": [],
   "source": [
    "dogs.iloc[2:5, 1:4]"
   ]
  },
  {
   "cell_type": "code",
   "execution_count": null,
   "id": "17685e28",
   "metadata": {},
   "outputs": [],
   "source": [
    "dogs_height_by_breed_vs_color = dogs.pivot_table(\"height_cm\", index=\"breed\", columns=\"color\")\n",
    "dogs_height_by_breed_vs_color\n",
    "dogs_height_by_breed_vs_color[\"Chow Chow\":\"Schnauzer\"]"
   ]
  },
  {
   "cell_type": "markdown",
   "id": "f0f71acc",
   "metadata": {},
   "source": [
    "Calculating summary stats across columns vs across rows\n",
    "- `axis = \"index\"`\n",
    "- `axis = \"columns\"`"
   ]
  },
  {
   "cell_type": "code",
   "execution_count": null,
   "id": "1dbadeb5",
   "metadata": {},
   "outputs": [],
   "source": [
    "dogs_height_by_breed_vs_color.mean(axis=\"index\")\n",
    "# dogs_height_by_breed_vs_color.mean(axis=\"columns\")"
   ]
  },
  {
   "cell_type": "markdown",
   "id": "044c2c17",
   "metadata": {},
   "source": [
    "histogram"
   ]
  },
  {
   "cell_type": "code",
   "execution_count": 71,
   "id": "96ba97ad",
   "metadata": {},
   "outputs": [
    {
     "data": {
      "image/png": "[encoded data removed]",
      "text/plain": [
       "<Figure size 640x480 with 1 Axes>"
      ]
     },
     "metadata": {},
     "output_type": "display_data"
    }
   ],
   "source": [
    "# Modify bins to 20\n",
    "avocados[avocados[\"type\"] == \"conventional\"][\"avg_price\"].hist(alpha=0.5, bins=20)\n",
    "\n",
    "# Modify bins to 20\n",
    "avocados[avocados[\"type\"] == \"organic\"][\"avg_price\"].hist(alpha=0.5, bins=20)\n",
    "\n",
    "# Add a legend\n",
    "plt.legend([\"conventional\", \"organic\"])\n",
    "\n",
    "# Show the plot\n",
    "plt.show()"
   ]
  },
  {
   "cell_type": "markdown",
   "id": "a5e21b0e",
   "metadata": {},
   "source": [
    "bar plots"
   ]
  },
  {
   "cell_type": "code",
   "execution_count": 67,
   "id": "ec52c83c",
   "metadata": {},
   "outputs": [
    {
     "data": {
      "image/png": "[encoded data removed]",
      "text/plain": [
       "<Figure size 640x480 with 1 Axes>"
      ]
     },
     "metadata": {},
     "output_type": "display_data"
    }
   ],
   "source": [
    "# Get the total number of avocados sold of each size\n",
    "nb_sold_by_size = avocados.groupby(\"size\")[\"nb_sold\"].sum()\n",
    "\n",
    "# Create a bar plot of the number of avocados sold by size\n",
    "nb_sold_by_size.plot(kind=\"bar\")\n",
    "\n",
    "# Show the plot\n",
    "plt.show()"
   ]
  },
  {
   "cell_type": "markdown",
   "id": "650b3565",
   "metadata": {},
   "source": [
    "line plots"
   ]
  },
  {
   "cell_type": "code",
   "execution_count": null,
   "id": "ec925b72",
   "metadata": {},
   "outputs": [
    {
     "data": {
      "image/png": "[encoded data removed]",
      "text/plain": [
       "<Figure size 640x480 with 1 Axes>"
      ]
     },
     "metadata": {},
     "output_type": "display_data"
    }
   ],
   "source": [
    "# Get the total number of avocados sold on each date\n",
    "nb_sold_by_date = avocados.groupby(\"date\")[\"nb_sold\"].sum()\n",
    "\n",
    "# Create a line plot of the number of avocados sold by date\n",
    "# rot argument puts x labels on an angle\n",
    "nb_sold_by_date.plot(kind=\"line\", rot=45)\n",
    "\n",
    "# Show the plot\n",
    "plt.show()"
   ]
  },
  {
   "cell_type": "markdown",
   "id": "4afa53dd",
   "metadata": {},
   "source": [
    "scatter plots"
   ]
  },
  {
   "cell_type": "code",
   "execution_count": 70,
   "id": "70f7746f",
   "metadata": {},
   "outputs": [
    {
     "data": {
      "image/png": "[encoded data removed]",
      "text/plain": [
       "<Figure size 640x480 with 1 Axes>"
      ]
     },
     "metadata": {},
     "output_type": "display_data"
    }
   ],
   "source": [
    "# Scatter plot of avg_price vs. nb_sold with title\n",
    "avocados.plot(x=\"nb_sold\", y=\"avg_price\", kind=\"scatter\", title=\"Number of avocados sold vs. average price\")\n",
    "\n",
    "# Show the plot\n",
    "plt.show()"
   ]
  },
  {
   "cell_type": "markdown",
   "id": "e4c0a1a0",
   "metadata": {},
   "source": [
    "layering plots"
   ]
  },
  {
   "cell_type": "code",
   "execution_count": null,
   "id": "a8a593f4",
   "metadata": {},
   "outputs": [
    {
     "data": {
      "image/png": "[encoded data removed]",
      "text/plain": [
       "<Figure size 640x480 with 1 Axes>"
      ]
     },
     "metadata": {},
     "output_type": "display_data"
    }
   ],
   "source": [
    "# bad example bc these plots are identical\n",
    "\n",
    "# alpha controls translucency (0 = invisible, 1 = opaque)\n",
    "\n",
    "avocados[avocados[\"size\"]==\"extra_large\"][\"avg_price\"].hist(alpha=1)\n",
    "avocados[avocados[\"size\"]==\"large\"][\"avg_price\"].hist(alpha=0.7)\n",
    "plt.legend([\"extra_large\", \"large\"])\n",
    "plt.show()"
   ]
  },
  {
   "cell_type": "markdown",
   "id": "a31e6d41",
   "metadata": {},
   "source": [
    "missing values"
   ]
  },
  {
   "cell_type": "code",
   "execution_count": null,
   "id": "b61e9617",
   "metadata": {},
   "outputs": [
    {
     "name": "stdout",
     "output_type": "stream",
     "text": [
      "           date          type  year  avg_price         size      nb_sold\n",
      "52   2016-12-25  conventional  2016       1.00        small   9255125.20\n",
      "53   2016-12-18  conventional  2016       0.96        small   9394065.91\n",
      "54   2016-12-11  conventional  2016       0.98        small   9009996.11\n",
      "55   2016-12-04  conventional  2016       1.00        small  11043350.90\n",
      "56   2016-11-27  conventional  2016       1.21        small   7891487.94\n",
      "..          ...           ...   ...        ...          ...          ...\n",
      "944  2016-01-31       organic  2016       1.43  extra_large      5515.91\n",
      "945  2016-01-24       organic  2016       1.41  extra_large     12933.97\n",
      "946  2016-01-17       organic  2016       1.44  extra_large     13106.29\n",
      "947  2016-01-10       organic  2016       1.35  extra_large      8771.79\n",
      "948  2016-01-03       organic  2016       1.43  extra_large      7749.40\n",
      "\n",
      "[312 rows x 6 columns]\n",
      "      date   type   year  avg_price   size  nb_sold\n",
      "52   False  False  False      False  False    False\n",
      "53   False  False  False      False  False    False\n",
      "54   False  False  False      False  False    False\n",
      "55   False  False  False      False  False    False\n",
      "56   False  False  False      False  False    False\n",
      "..     ...    ...    ...        ...    ...      ...\n",
      "944  False  False  False      False  False    False\n",
      "945  False  False  False      False  False    False\n",
      "946  False  False  False      False  False    False\n",
      "947  False  False  False      False  False    False\n",
      "948  False  False  False      False  False    False\n",
      "\n",
      "[312 rows x 6 columns]\n",
      "date         False\n",
      "type         False\n",
      "year         False\n",
      "avg_price    False\n",
      "size         False\n",
      "nb_sold      False\n",
      "dtype: bool\n"
     ]
    },
    {
     "data": {
      "image/png": "[encoded data removed]",
      "text/plain": [
       "<Figure size 640x480 with 1 Axes>"
      ]
     },
     "metadata": {},
     "output_type": "display_data"
    }
   ],
   "source": [
    "dogs.isna() # see which values are NA\n",
    "dogs.isna().any() # see if any columns contain NA\n",
    "dogs.isna().sum() # number of NAs in each column\n",
    "dogs.isna().sum().plot(kind=\"bar\") # plot number of missing values\n",
    "dogs.dropna() # remove rows with any NA values\n",
    "dogs.fillna(0) # replace all NAs with a value (0 in this case)"
   ]
  },
  {
   "cell_type": "markdown",
   "id": "59b0880a",
   "metadata": {},
   "source": [
    "creating dataframes"
   ]
  },
  {
   "cell_type": "code",
   "execution_count": 82,
   "id": "834d6cec",
   "metadata": {},
   "outputs": [
    {
     "name": "stdout",
     "output_type": "stream",
     "text": [
      "     name      breed\n",
      "0  Ginger   Daschund\n",
      "1   Scout  Dalmatian\n",
      "\n",
      "     name      breed\n",
      "0  Ginger   Daschund\n",
      "1   Scout  Dalmatian\n"
     ]
    }
   ],
   "source": [
    "# create DataFrame from a list of dictionaries (constructed row by row)\n",
    "list_of_dicts = [\n",
    "    {\"name\": \"Ginger\", \"breed\": \"Daschund\"},\n",
    "    {\"name\": \"Scout\", \"breed\": \"Dalmatian\"}\n",
    "]\n",
    "new_dogs = pd.DataFrame(list_of_dicts)\n",
    "print(new_dogs)\n",
    "\n",
    "print(\"\")\n",
    "\n",
    "# create DataFrame from a dictionary of lists (constructed column by column)\n",
    "dict_of_lists = {\n",
    "    \"name\": [\"Ginger\", \"Scout\"],\n",
    "    \"breed\": [\"Daschund\", \"Dalmatian\"]\n",
    "}\n",
    "new_dogs = pd.DataFrame(dict_of_lists)\n",
    "print(new_dogs)"
   ]
  },
  {
   "cell_type": "markdown",
   "id": "f32cdd3d",
   "metadata": {},
   "source": [
    "reading and writing csvs"
   ]
  },
  {
   "cell_type": "code",
   "execution_count": 90,
   "id": "a6869dec",
   "metadata": {},
   "outputs": [
    {
     "name": "stdout",
     "output_type": "stream",
     "text": [
      "                region                 state  individuals  family_members  \\\n",
      "0   East South Central               Alabama       2570.0           864.0   \n",
      "1              Pacific                Alaska       1434.0           582.0   \n",
      "2             Mountain               Arizona       7259.0          2606.0   \n",
      "3   West South Central              Arkansas       2280.0           432.0   \n",
      "4              Pacific            California     109008.0         20964.0   \n",
      "5             Mountain              Colorado       7607.0          3250.0   \n",
      "6          New England           Connecticut       2280.0          1696.0   \n",
      "7       South Atlantic              Delaware        708.0           374.0   \n",
      "8       South Atlantic  District of Columbia       3770.0          3134.0   \n",
      "9       South Atlantic               Florida      21443.0          9587.0   \n",
      "10      South Atlantic               Georgia       6943.0          2556.0   \n",
      "11             Pacific                Hawaii       4131.0          2399.0   \n",
      "12            Mountain                 Idaho       1297.0           715.0   \n",
      "13  East North Central              Illinois       6752.0          3891.0   \n",
      "14  East North Central               Indiana       3776.0          1482.0   \n",
      "15  West North Central                  Iowa       1711.0          1038.0   \n",
      "16  West North Central                Kansas       1443.0           773.0   \n",
      "17  East South Central              Kentucky       2735.0           953.0   \n",
      "18  West South Central             Louisiana       2540.0           519.0   \n",
      "19         New England                 Maine       1450.0          1066.0   \n",
      "20      South Atlantic              Maryland       4914.0          2230.0   \n",
      "21         New England         Massachusetts       6811.0         13257.0   \n",
      "22  East North Central              Michigan       5209.0          3142.0   \n",
      "23  West North Central             Minnesota       3993.0          3250.0   \n",
      "24  East South Central           Mississippi       1024.0           328.0   \n",
      "25  West North Central              Missouri       3776.0          2107.0   \n",
      "26            Mountain               Montana        983.0           422.0   \n",
      "27  West North Central              Nebraska       1745.0           676.0   \n",
      "28            Mountain                Nevada       7058.0           486.0   \n",
      "29         New England         New Hampshire        835.0           615.0   \n",
      "30        Mid-Atlantic            New Jersey       6048.0          3350.0   \n",
      "31            Mountain            New Mexico       1949.0           602.0   \n",
      "32        Mid-Atlantic              New York      39827.0         52070.0   \n",
      "33      South Atlantic        North Carolina       6451.0          2817.0   \n",
      "34  West North Central          North Dakota        467.0            75.0   \n",
      "35  East North Central                  Ohio       6929.0          3320.0   \n",
      "36  West South Central              Oklahoma       2823.0          1048.0   \n",
      "37             Pacific                Oregon      11139.0          3337.0   \n",
      "38        Mid-Atlantic          Pennsylvania       8163.0          5349.0   \n",
      "39         New England          Rhode Island        747.0           354.0   \n",
      "40      South Atlantic        South Carolina       3082.0           851.0   \n",
      "41  West North Central          South Dakota        836.0           323.0   \n",
      "42  East South Central             Tennessee       6139.0          1744.0   \n",
      "43  West South Central                 Texas      19199.0          6111.0   \n",
      "44            Mountain                  Utah       1904.0           972.0   \n",
      "45         New England               Vermont        780.0           511.0   \n",
      "46      South Atlantic              Virginia       3928.0          2047.0   \n",
      "47             Pacific            Washington      16424.0          5880.0   \n",
      "48      South Atlantic         West Virginia       1021.0           222.0   \n",
      "49  East North Central             Wisconsin       2740.0          2167.0   \n",
      "50            Mountain               Wyoming        434.0           205.0   \n",
      "\n",
      "    state_pop  \n",
      "0     4887681  \n",
      "1      735139  \n",
      "2     7158024  \n",
      "3     3009733  \n",
      "4    39461588  \n",
      "5     5691287  \n",
      "6     3571520  \n",
      "7      965479  \n",
      "8      701547  \n",
      "9    21244317  \n",
      "10   10511131  \n",
      "11    1420593  \n",
      "12    1750536  \n",
      "13   12723071  \n",
      "14    6695497  \n",
      "15    3148618  \n",
      "16    2911359  \n",
      "17    4461153  \n",
      "18    4659690  \n",
      "19    1339057  \n",
      "20    6035802  \n",
      "21    6882635  \n",
      "22    9984072  \n",
      "23    5606249  \n",
      "24    2981020  \n",
      "25    6121623  \n",
      "26    1060665  \n",
      "27    1925614  \n",
      "28    3027341  \n",
      "29    1353465  \n",
      "30    8886025  \n",
      "31    2092741  \n",
      "32   19530351  \n",
      "33   10381615  \n",
      "34     758080  \n",
      "35   11676341  \n",
      "36    3940235  \n",
      "37    4181886  \n",
      "38   12800922  \n",
      "39    1058287  \n",
      "40    5084156  \n",
      "41     878698  \n",
      "42    6771631  \n",
      "43   28628666  \n",
      "44    3153550  \n",
      "45     624358  \n",
      "46    8501286  \n",
      "47    7523869  \n",
      "48    1804291  \n",
      "49    5807406  \n",
      "50     577601  \n"
     ]
    }
   ],
   "source": [
    "# read csv\n",
    "homelessness = pd.read_csv(\"data/homelessness.csv\", index_col=0)\n",
    "print(homelessness)\n",
    "\n",
    "# write csv\n",
    "homelessness.to_csv(\"data/homelessnessTheRemix.csv\")"
   ]
  },
  {
   "cell_type": "markdown",
   "id": "dfe687e5",
   "metadata": {},
   "source": [
    "inner join - returns rows that have matching values in both tables"
   ]
  },
  {
   "cell_type": "code",
   "execution_count": 100,
   "id": "4883b20d",
   "metadata": {},
   "outputs": [
    {
     "name": "stdout",
     "output_type": "stream",
     "text": [
      "Index(['ward', 'alderman', 'address_ward', 'zip_ward', 'pop_2000', 'pop_2010',\n",
      "       'change', 'address_cen', 'zip_cen'],\n",
      "      dtype='object')\n"
     ]
    }
   ],
   "source": [
    "wards = pickle.load(open(\"data/ward.p\", \"rb\"))\n",
    "census = pickle.load(open(\"data/census.p\", \"rb\"))\n",
    "\n",
    "wards_census = wards.merge(census, on=\"ward\", suffixes=(\"_ward\", \"_cen\"))\n",
    "print(wards_census.columns)"
   ]
  },
  {
   "cell_type": "markdown",
   "id": "9627dc47",
   "metadata": {},
   "source": [
    "- one-to-one: every row in left table is related to exactly one row in the right table\n",
    "- one-to-many: every row in left table is related to one or more rows in the right table"
   ]
  },
  {
   "cell_type": "code",
   "execution_count": 108,
   "id": "36f3186c",
   "metadata": {},
   "outputs": [
    {
     "name": "stdout",
     "output_type": "stream",
     "text": [
      "  ward            alderman               address_ward zip_ward account  aid  \\\n",
      "0    1  Proco \"Joe\" Moreno  2058 NORTH WESTERN AVENUE    60647   12024  NaN   \n",
      "1    1  Proco \"Joe\" Moreno  2058 NORTH WESTERN AVENUE    60647   14446  743   \n",
      "2    1  Proco \"Joe\" Moreno  2058 NORTH WESTERN AVENUE    60647   14624  775   \n",
      "3    1  Proco \"Joe\" Moreno  2058 NORTH WESTERN AVENUE    60647   14987  NaN   \n",
      "4    1  Proco \"Joe\" Moreno  2058 NORTH WESTERN AVENUE    60647   15642  814   \n",
      "\n",
      "               business              address_lic zip_lic  \n",
      "0   DIGILOG ELECTRONICS       1038 N ASHLAND AVE   60622  \n",
      "1      EMPTY BOTTLE INC   1035 N WESTERN AVE 1ST   60622  \n",
      "2  LITTLE MEL'S HOT DOG    2205 N CALIFORNIA AVE   60647  \n",
      "3    MR. BROWN'S LOUNGE   2301 W CHICAGO AVE 1ST   60622  \n",
      "4          Beat Kitchen  2000-2100 W DIVISION ST   60622  \n",
      "(50, 4)\n",
      "(10000, 9)\n"
     ]
    }
   ],
   "source": [
    "licenses = pickle.load(open(\"data/licenses.p\", \"rb\"))\n",
    "# syntax for one-to-many is same as one-to-one\n",
    "ward_licenses = wards.merge(licenses, on=\"ward\", suffixes=(\"_ward\", \"_lic\"))\n",
    "print(ward_licenses.head())\n",
    "print(wards.shape)\n",
    "print(ward_licenses.shape)"
   ]
  }
 ],
 "metadata": {
  "kernelspec": {
   "display_name": "base",
   "language": "python",
   "name": "python3"
  },
  "language_info": {
   "codemirror_mode": {
    "name": "ipython",
    "version": 3
   },
   "file_extension": ".py",
   "mimetype": "text/x-python",
   "name": "python",
   "nbconvert_exporter": "python",
   "pygments_lexer": "ipython3",
   "version": "3.12.4"
  }
 },
 "nbformat": 4,
 "nbformat_minor": 5
}
